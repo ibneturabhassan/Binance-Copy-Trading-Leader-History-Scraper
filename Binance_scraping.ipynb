{
  "nbformat": 4,
  "nbformat_minor": 0,
  "metadata": {
    "colab": {
      "provenance": []
    },
    "kernelspec": {
      "name": "python3",
      "display_name": "Python 3"
    },
    "language_info": {
      "name": "python"
    }
  },
  "cells": [
    {
      "cell_type": "code",
      "execution_count": null,
      "metadata": {
        "id": "SkvO0CGKyi_V"
      },
      "outputs": [],
      "source": [
        "import requests\n",
        "import json\n",
        "\n",
        "# Endpoint URL\n",
        "url = \"https://www.binance.com/bapi/futures/v1/public/future/copy-trade/lead-portfolio/trade-history\"\n",
        "\n",
        "# List to store the combined 'list' items from each page's data\n",
        "combined_list_data = []\n",
        "portfolio_id = ''\n",
        "start_page =\n",
        "end_page =\n",
        "\n",
        "# Function to make POST request with a given page number\n",
        "def make_request(page_number):\n",
        "    # Payload to be sent in POST request\n",
        "    payload = {\n",
        "        \"pageNumber\": page_number,\n",
        "        \"pageSize\": 10,\n",
        "        \"portfolioId\": portfolio_id\n",
        "    }\n",
        "\n",
        "    # Make the POST request\n",
        "    response = requests.post(url, json=payload)\n",
        "\n",
        "    # Check if the request was successful\n",
        "    if response.status_code == 200:\n",
        "        print(f\"Page {page_number}: Success\")\n",
        "        # Extract list items and append them to combined_list_data\n",
        "        response_data = response.json()\n",
        "        combined_list_data.extend(response_data['data']['list'])\n",
        "    else:\n",
        "        print(f\"Page {page_number}: Error - {response.status_code}\")\n",
        "\n",
        "for page_number in range(start_page, end_page+1):\n",
        "    make_request(page_number)\n",
        "\n",
        "# Save the combined list data to a file\n",
        "with open('combined_list_data.json', 'w') as file:\n",
        "    json.dump(combined_list_data, file)\n",
        "\n",
        "print(\"Data saved to combined_list_data.json\")\n"
      ]
    },
    {
      "cell_type": "code",
      "source": [
        "import json\n",
        "import csv\n",
        "\n",
        "# Load JSON data from a file\n",
        "with open('/content/fulldata.json', 'r') as json_file:\n",
        "    json_data = json.load(json_file)\n",
        "\n",
        "# Define the CSV file name\n",
        "csv_file_name = 'combined_list_data.csv'\n",
        "\n",
        "# Convert JSON data to CSV\n",
        "with open(csv_file_name, 'w', newline='') as csv_file:\n",
        "    writer = csv.DictWriter(csv_file, fieldnames=json_data[0].keys())\n",
        "    writer.writeheader()\n",
        "    for data in json_data:\n",
        "        writer.writerow(data)\n",
        "\n",
        "print(f\"Data successfully written to {csv_file_name}\")\n"
      ],
      "metadata": {
        "id": "mQP2WaDnYaYO",
        "outputId": "86b9c24d-0ea6-479f-87f3-f232d56b5c5a",
        "colab": {
          "base_uri": "https://localhost:8080/"
        }
      },
      "execution_count": null,
      "outputs": [
        {
          "output_type": "stream",
          "name": "stdout",
          "text": [
            "Data successfully written to combined_list_data.csv\n"
          ]
        }
      ]
    }
  ]
}